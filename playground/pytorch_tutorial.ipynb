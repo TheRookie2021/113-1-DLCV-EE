{
  "cells": [
    {
      "cell_type": "markdown",
      "metadata": {
        "id": "-Zsi2fSrBNHY"
      },
      "source": [
        "# Pytorch Practice: Classifying MNIST images"
      ]
    },
    {
      "cell_type": "markdown",
      "metadata": {
        "id": "gnIS5T5wC0w2"
      },
      "source": [
        "In this example, we will teach how to use Pytorch for a classic CV task: Classifying hand-written digits.  \n",
        "We will cover the basics of Pytorch, including:\n",
        "\n",
        "*   How to create loader for custom data\n",
        "*   How to create an neural network\n",
        "*   How to train a neural network\n",
        "*   How to save the model\n",
        "*   How to fine-tune a pre-trained model\n",
        "*   How to debug the model\n",
        "\n",
        "Reference: [CS231n](http://cs231n.stanford.edu/notebooks/pytorch_tutorial.ipynb)"
      ]
    },
    {
      "cell_type": "markdown",
      "metadata": {
        "id": "X8-3SvzotsSI"
      },
      "source": [
        "## Download MNIST data"
      ]
    },
    {
      "cell_type": "code",
      "execution_count": 2,
      "metadata": {
        "colab": {
          "base_uri": "https://localhost:8080/",
          "height": 357
        },
        "id": "b3fpMVP3trbe",
        "outputId": "420fbf40-1cd0-4a68-b0eb-9f8eb0fa7d55"
      },
      "outputs": [
        {
          "name": "stdout",
          "output_type": "stream",
          "text": [
            "--2024-09-18 19:29:27--  https://github.com/myleott/mnist_png/blob/master/mnist_png.tar.gz?raw=true\n",
            "Resolving github.com (github.com)... 20.27.177.113\n",
            "Connecting to github.com (github.com)|20.27.177.113|:443... connected.\n",
            "HTTP request sent, awaiting response... 302 Found\n",
            "Location: https://github.com/myleott/mnist_png/raw/refs/heads/master/mnist_png.tar.gz [following]\n",
            "--2024-09-18 19:29:27--  https://github.com/myleott/mnist_png/raw/refs/heads/master/mnist_png.tar.gz\n",
            "Reusing existing connection to github.com:443.\n",
            "HTTP request sent, awaiting response... 302 Found\n",
            "Location: https://raw.githubusercontent.com/myleott/mnist_png/refs/heads/master/mnist_png.tar.gz [following]\n",
            "--2024-09-18 19:29:27--  https://raw.githubusercontent.com/myleott/mnist_png/refs/heads/master/mnist_png.tar.gz\n",
            "Resolving raw.githubusercontent.com (raw.githubusercontent.com)... 185.199.110.133, 185.199.111.133, 185.199.108.133, ...\n",
            "Connecting to raw.githubusercontent.com (raw.githubusercontent.com)|185.199.110.133|:443... connected.\n",
            "HTTP request sent, awaiting response... 200 OK\n",
            "Length: 15683414 (15M) [application/octet-stream]\n",
            "Saving to: ‘mnist_png.tar.gz’\n",
            "\n",
            "mnist_png.tar.gz    100%[===================>]  14.96M  4.72MB/s    in 3.4s    \n",
            "\n",
            "2024-09-18 19:29:33 (4.38 MB/s) - ‘mnist_png.tar.gz’ saved [15683414/15683414]\n",
            "\n"
          ]
        }
      ],
      "source": [
        "! wget -O mnist_png.tar.gz https://github.com/myleott/mnist_png/blob/master/mnist_png.tar.gz?raw=true\n",
        "! tar zxf mnist_png.tar.gz"
      ]
    },
    {
      "cell_type": "markdown",
      "metadata": {
        "id": "fFfHJM7QCi6H"
      },
      "source": [
        "## Loading Pytorch module"
      ]
    },
    {
      "cell_type": "code",
      "execution_count": 3,
      "metadata": {
        "id": "VCsa3-HSBHce"
      },
      "outputs": [],
      "source": [
        "import torch\n",
        "import torch.nn as nn\n",
        "import torch.optim as optim\n",
        "import torch.nn.functional as F\n",
        "import torchvision\n",
        "import torchvision.transforms as transforms\n",
        "from torch.utils.data import Dataset, DataLoader\n",
        "import glob\n",
        "import os\n",
        "import numpy as np\n",
        "from PIL import Image\n"
      ]
    },
    {
      "cell_type": "markdown",
      "metadata": {
        "id": "C4M-ON6BCttO"
      },
      "source": [
        "## 1. Creating a custom dataset\n",
        "\n",
        "PyTorch has many built-in datasets such as MNIST and CIFAR.  \n",
        "In this tutorial, we demonstrate how to write your own dataset by implementing a custom MNIST dataset class."
      ]
    },
    {
      "cell_type": "code",
      "execution_count": 4,
      "metadata": {
        "id": "yLQQyUuiELen"
      },
      "outputs": [],
      "source": [
        "class MNIST(Dataset):\n",
        "    def __init__(self, root, transform=None):\n",
        "        \"\"\" Intialize the MNIST dataset \"\"\"\n",
        "        self.images = None\n",
        "        self.labels = None\n",
        "        self.filenames = []\n",
        "        self.root = root\n",
        "        self.transform = transform\n",
        "\n",
        "        # read filenames: 10 class\n",
        "        for i in range(10):\n",
        "            filenames = glob.glob(os.path.join(root, str(i), '*.png'))\n",
        "            for fn in filenames:\n",
        "                self.filenames.append((fn, i)) # (filename, label) pair\n",
        "\n",
        "        self.len = len(self.filenames)\n",
        "\n",
        "    def __getitem__(self, index):\n",
        "        \"\"\" Get a sample from the dataset \"\"\"\n",
        "        image_fn, label = self.filenames[index]\n",
        "        image = Image.open(image_fn)\n",
        "\n",
        "        if self.transform is not None:\n",
        "            image = self.transform(image)\n",
        "\n",
        "        return image, label\n",
        "\n",
        "    def __len__(self):\n",
        "        \"\"\" Total number of samples in the dataset \"\"\"\n",
        "        return self.len"
      ]
    },
    {
      "cell_type": "markdown",
      "metadata": {
        "id": "lIUahJADuzLN"
      },
      "source": [
        "Let's load the images into custom-created Dataset."
      ]
    },
    {
      "cell_type": "code",
      "execution_count": 5,
      "metadata": {
        "colab": {
          "base_uri": "https://localhost:8080/",
          "height": 51
        },
        "id": "pBMQwR0oEetn",
        "outputId": "1b03a702-87c4-4684-8365-d8a5d7e4414f"
      },
      "outputs": [
        {
          "name": "stdout",
          "output_type": "stream",
          "text": [
            "# images in trainset: 60000\n",
            "# images in testset: 10000\n"
          ]
        }
      ],
      "source": [
        "# Create the MNIST dataset.\n",
        "# transforms.ToTensor() automatically converts PIL images to\n",
        "# torch tensors with range [0, 1]\n",
        "trainset = MNIST(root='mnist_png/training',\n",
        "    transform=transforms.ToTensor())\n",
        "\n",
        "# load the testset\n",
        "testset = MNIST(root='mnist_png/testing',\n",
        "    transform=transforms.ToTensor())\n",
        "\n",
        "print('# images in trainset:', len(trainset)) # Should print 60000\n",
        "print('# images in testset:', len(testset)) # Should print 10000"
      ]
    },
    {
      "cell_type": "code",
      "execution_count": 37,
      "metadata": {},
      "outputs": [
        {
          "name": "stdout",
          "output_type": "stream",
          "text": [
            "torch.Size([1, 28, 28]) 0\n"
          ]
        }
      ],
      "source": [
        "print(trainset[5000][0].size(),trainset[5000][1])"
      ]
    },
    {
      "cell_type": "markdown",
      "metadata": {
        "id": "2t1NpnH4xe8y"
      },
      "source": [
        "In Pytorch, the \"DataLoader\" class provides a simple way to collect data into batches."
      ]
    },
    {
      "cell_type": "code",
      "execution_count": 6,
      "metadata": {
        "colab": {
          "base_uri": "https://localhost:8080/",
          "height": 51
        },
        "id": "GjQngQ6fvU9k",
        "outputId": "847d7339-48f3-4d9c-d978-bf0f4a1e9417"
      },
      "outputs": [
        {
          "name": "stdout",
          "output_type": "stream",
          "text": [
            "Image tensor in each batch: torch.Size([64, 1, 28, 28]) torch.float32\n",
            "Label tensor in each batch: torch.Size([64]) torch.int64\n"
          ]
        }
      ],
      "source": [
        "# Use the torch dataloader to iterate through the dataset\n",
        "trainset_loader = DataLoader(trainset, batch_size=64, shuffle=True, num_workers=1)\n",
        "testset_loader = DataLoader(testset, batch_size=1000, shuffle=False, num_workers=1)\n",
        "\n",
        "# get some random training images\n",
        "dataiter = iter(trainset_loader)\n",
        "# bug: see https://stackoverflow.com/questions/74289077/attributeerror-multiprocessingdataloaderiter-object-has-no-attribute-next\n",
        "images, labels = next(dataiter)\n",
        "\n",
        "\n",
        "print('Image tensor in each batch:', images.shape, images.dtype)\n",
        "print('Label tensor in each batch:', labels.shape, labels.dtype)"
      ]
    },
    {
      "cell_type": "markdown",
      "metadata": {
        "id": "9Mm4HWGJC7mW"
      },
      "source": [
        "We can visualize what contains in each batch:"
      ]
    },
    {
      "cell_type": "code",
      "execution_count": 7,
      "metadata": {
        "colab": {
          "base_uri": "https://localhost:8080/",
          "height": 303
        },
        "id": "IrfTpBYeC6Oa",
        "outputId": "1ce321e2-5e6c-45bf-de1e-52dfe7c4f7c5"
      },
      "outputs": [
        {
          "name": "stdout",
          "output_type": "stream",
          "text": [
            "Labels:\n",
            "tensor(1) tensor(0) tensor(0) tensor(1) tensor(9) tensor(1) tensor(9) tensor(1) tensor(9) tensor(5) tensor(0) tensor(8) tensor(0) tensor(1) tensor(1) tensor(0)\n"
          ]
        },
        {
          "data": {
            "image/png": "[encoded data removed]",
            "text/plain": [
              "<Figure size 640x480 with 1 Axes>"
            ]
          },
          "metadata": {},
          "output_type": "display_data"
        }
      ],
      "source": [
        "import matplotlib.pyplot as plt\n",
        "import numpy as np\n",
        "\n",
        "# functions to show an image\n",
        "def imshow(img):\n",
        "    npimg = img.numpy()\n",
        "    plt.imshow(np.transpose(npimg, (1, 2, 0)))\n",
        "\n",
        "# show images\n",
        "imshow(torchvision.utils.make_grid(images))\n",
        "# print labels\n",
        "print('Labels:')\n",
        "print(' '.join('%5s' % labels[j] for j in range(16)))"
      ]
    },
    {
      "cell_type": "markdown",
      "metadata": {
        "id": "PBkiKKd7ywy9"
      },
      "source": [
        "Let's check if GPU is available. If not, use CPU instead."
      ]
    },
    {
      "cell_type": "code",
      "execution_count": 8,
      "metadata": {
        "colab": {
          "base_uri": "https://localhost:8080/",
          "height": 34
        },
        "id": "6BRAp_-sEk1g",
        "outputId": "5a6b733e-04fd-4a91-dfb2-ad5cf4fa8d39"
      },
      "outputs": [
        {
          "name": "stdout",
          "output_type": "stream",
          "text": [
            "Device used: cuda\n"
          ]
        }
      ],
      "source": [
        "# Use GPU if available, otherwise stick with cpu\n",
        "use_cuda = torch.cuda.is_available()\n",
        "torch.manual_seed(123)\n",
        "device = torch.device(\"cuda\" if use_cuda else \"cpu\")\n",
        "print('Device used:', device)"
      ]
    },
    {
      "cell_type": "markdown",
      "metadata": {
        "id": "cUqSqPmVEmTv"
      },
      "source": [
        "## 2. Creating a Convolutional Neural Network\n",
        "\n",
        "Pytorch uses \"torch.nn.Module()\" to wrap a neural network into a class object."
      ]
    },
    {
      "cell_type": "code",
      "execution_count": 9,
      "metadata": {
        "colab": {
          "base_uri": "https://localhost:8080/",
          "height": 340
        },
        "id": "0txCMNSBEs6n",
        "outputId": "d5710edc-4448-4519-e676-5f3e429b540f"
      },
      "outputs": [
        {
          "name": "stdout",
          "output_type": "stream",
          "text": [
            "Net(\n",
            "  (conv1): Sequential(\n",
            "    (0): Conv2d(1, 10, kernel_size=(5, 5), stride=(1, 1))\n",
            "    (1): MaxPool2d(kernel_size=2, stride=2, padding=0, dilation=1, ceil_mode=False)\n",
            "    (2): ReLU()\n",
            "  )\n",
            "  (conv2): Sequential(\n",
            "    (0): Conv2d(10, 20, kernel_size=(5, 5), stride=(1, 1))\n",
            "    (1): Dropout2d(p=0.5, inplace=False)\n",
            "    (2): MaxPool2d(kernel_size=2, stride=2, padding=0, dilation=1, ceil_mode=False)\n",
            "    (3): ReLU()\n",
            "  )\n",
            "  (fc1): Sequential(\n",
            "    (0): Linear(in_features=320, out_features=50, bias=True)\n",
            "    (1): ReLU()\n",
            "    (2): Dropout(p=0.5, inplace=False)\n",
            "  )\n",
            "  (fc2): Linear(in_features=50, out_features=10, bias=True)\n",
            ")\n"
          ]
        }
      ],
      "source": [
        "class Net(nn.Module):\n",
        "    def __init__(self):\n",
        "        super(Net, self).__init__()\n",
        "        self.conv1 = nn.Sequential(\n",
        "            nn.Conv2d(1, 10, kernel_size=5),\n",
        "            nn.MaxPool2d(2),\n",
        "            nn.ReLU()\n",
        "        )\n",
        "        self.conv2 = nn.Sequential(\n",
        "            nn.Conv2d(10, 20, kernel_size=5),\n",
        "            nn.Dropout2d(0.5),\n",
        "            nn.MaxPool2d(2),\n",
        "            nn.ReLU()\n",
        "        )\n",
        "        self.fc1 = nn.Sequential(\n",
        "            nn.Linear(320, 50),\n",
        "            nn.ReLU(),\n",
        "            nn.Dropout(0.5)\n",
        "        )\n",
        "        self.fc2 = nn.Linear(50, 10)\n",
        "\n",
        "    def forward(self, x):\n",
        "        x = self.conv1(x)\n",
        "        x = self.conv2(x)\n",
        "        x = x.view(-1, 320)\n",
        "        x = self.fc1(x)\n",
        "        x = self.fc2(x)\n",
        "        return x\n",
        "\n",
        "model = Net().to(device) # Remember to move the model to \"device\"\n",
        "print(model)"
      ]
    },
    {
      "cell_type": "markdown",
      "metadata": {
        "id": "StihLWC4EvfH"
      },
      "source": [
        "## 3. Train the network\n",
        "\n",
        "With the data loaded and network created, it's time to train the model!  \n",
        "First, we define the training loop."
      ]
    },
    {
      "cell_type": "code",
      "execution_count": 10,
      "metadata": {
        "id": "5jqywjrCE1H3"
      },
      "outputs": [],
      "source": [
        "def test(model):\n",
        "    criterion = nn.CrossEntropyLoss()\n",
        "    model.eval()  # Important: set evaluation mode\n",
        "    test_loss = 0\n",
        "    correct = 0\n",
        "    with torch.no_grad(): # This will free the GPU memory used for back-prop\n",
        "        for data, target in testset_loader:\n",
        "            data, target = data.to(device), target.to(device)\n",
        "            output = model(data)\n",
        "            test_loss += criterion(output, target).item() # sum up batch loss\n",
        "            pred = output.max(1, keepdim=True)[1] # get the index of the max log-probability\n",
        "            correct += pred.eq(target.view_as(pred)).sum().item()\n",
        "\n",
        "    test_loss /= len(testset_loader.dataset)\n",
        "    print('\\nTest set: Average loss: {:.4f}, Accuracy: {}/{} ({:.0f}%)\\n'.format(\n",
        "        test_loss, correct, len(testset_loader.dataset),\n",
        "        100. * correct / len(testset_loader.dataset)))"
      ]
    },
    {
      "cell_type": "code",
      "execution_count": 11,
      "metadata": {
        "id": "6gp-5kTUExjg"
      },
      "outputs": [],
      "source": [
        "def train(model, epoch, log_interval=100):\n",
        "    optimizer = optim.SGD(model.parameters(), lr=0.001, momentum=0.9)\n",
        "    criterion = nn.CrossEntropyLoss()\n",
        "    model.train()  # Important: set training mode\n",
        "\n",
        "    iteration = 0\n",
        "    for ep in range(epoch):\n",
        "        for batch_idx, (data, target) in enumerate(trainset_loader):\n",
        "            data, target = data.to(device), target.to(device)\n",
        "            optimizer.zero_grad()\n",
        "            output = model(data)\n",
        "            loss = criterion(output, target)\n",
        "            loss.backward()\n",
        "            optimizer.step()\n",
        "\n",
        "            if iteration % log_interval == 0:\n",
        "                print('Train Epoch: {} [{}/{} ({:.0f}%)]\\tLoss: {:.6f}'.format(\n",
        "                    ep, batch_idx * len(data), len(trainset_loader.dataset),\n",
        "                    100. * batch_idx / len(trainset_loader), loss.item()))\n",
        "            iteration += 1\n",
        "\n",
        "        test(model) # Evaluate at the end of each epoch"
      ]
    },
    {
      "cell_type": "markdown",
      "metadata": {
        "id": "mJtDTy6F_4O-"
      },
      "source": [
        "Remember to evaluate at the end of each epoch."
      ]
    },
    {
      "cell_type": "markdown",
      "metadata": {
        "id": "edzYXXF0__RH"
      },
      "source": [
        "It's time to train the model!"
      ]
    },
    {
      "cell_type": "code",
      "execution_count": 53,
      "metadata": {},
      "outputs": [
        {
          "name": "stdout",
          "output_type": "stream",
          "text": [
            "Tensor size and type after conv1: torch.Size([10, 12, 12]) torch.float32\n",
            "Tensor size and type after conv2: torch.Size([20, 4, 4]) torch.float32\n",
            "Tensor size and type after view(): torch.Size([1, 320]) torch.float32\n",
            "Tensor size and type after fc1: torch.Size([1, 50]) torch.float32\n",
            "Tensor size and type after fc2: torch.Size([1, 10]) torch.float32\n",
            "tensor([[ 0.0021,  0.0159, -0.0844,  0.1803,  0.0634,  0.2452, -0.0116,  0.0871,\n",
            "          0.0892, -0.0667]], device='cuda:0', grad_fn=<AddmmBackward0>) tensor([0])\n",
            "tensor(2.3575, device='cuda:0', grad_fn=<NllLossBackward0>)\n"
          ]
        }
      ],
      "source": [
        "# for batch_idx, (data, target) in enumerate(trainset_loader):\n",
        "#     print(data.size())\n",
        "#     print(target.size())\n",
        "#     break\n",
        "y=model(trainset[0][0].to(device))\n",
        "loss=nn.CrossEntropyLoss()\n",
        "output=loss(y,torch.tensor([trainset[0][1]]).to(device))\n",
        "print(y, torch.tensor([trainset[0][1]]) )\n",
        "print(output)"
      ]
    },
    {
      "cell_type": "code",
      "execution_count": 12,
      "metadata": {
        "colab": {
          "base_uri": "https://localhost:8080/",
          "height": 1000
        },
        "id": "w7HNFf5eE2dY",
        "outputId": "3ad844ce-db1c-49ae-bc9f-1febdb7a03a3"
      },
      "outputs": [
        {
          "name": "stdout",
          "output_type": "stream",
          "text": [
            "Train Epoch: 0 [0/60000 (0%)]\tLoss: 2.301372\n",
            "Train Epoch: 0 [6400/60000 (11%)]\tLoss: 2.295414\n",
            "Train Epoch: 0 [12800/60000 (21%)]\tLoss: 2.271077\n",
            "Train Epoch: 0 [19200/60000 (32%)]\tLoss: 2.251220\n",
            "Train Epoch: 0 [25600/60000 (43%)]\tLoss: 2.173775\n",
            "Train Epoch: 0 [32000/60000 (53%)]\tLoss: 2.102542\n",
            "Train Epoch: 0 [38400/60000 (64%)]\tLoss: 1.694222\n",
            "Train Epoch: 0 [44800/60000 (75%)]\tLoss: 1.589975\n",
            "Train Epoch: 0 [51200/60000 (85%)]\tLoss: 1.382355\n",
            "Train Epoch: 0 [57600/60000 (96%)]\tLoss: 0.973611\n",
            "\n",
            "Test set: Average loss: 0.0007, Accuracy: 8177/10000 (82%)\n",
            "\n",
            "Train Epoch: 1 [3968/60000 (7%)]\tLoss: 0.362701\n",
            "Train Epoch: 1 [10368/60000 (17%)]\tLoss: 0.422391\n",
            "Train Epoch: 1 [16768/60000 (28%)]\tLoss: 0.302748\n",
            "Train Epoch: 1 [23168/60000 (39%)]\tLoss: 0.409735\n",
            "Train Epoch: 1 [29568/60000 (49%)]\tLoss: 0.224107\n",
            "Train Epoch: 1 [35968/60000 (60%)]\tLoss: 0.297871\n",
            "Train Epoch: 1 [42368/60000 (71%)]\tLoss: 0.362655\n",
            "Train Epoch: 1 [48768/60000 (81%)]\tLoss: 0.151734\n",
            "Train Epoch: 1 [55168/60000 (92%)]\tLoss: 0.143444\n",
            "\n",
            "Test set: Average loss: 0.0002, Accuracy: 9283/10000 (93%)\n",
            "\n",
            "Train Epoch: 2 [1536/60000 (3%)]\tLoss: 0.142092\n",
            "Train Epoch: 2 [7936/60000 (13%)]\tLoss: 0.361068\n",
            "Train Epoch: 2 [14336/60000 (24%)]\tLoss: 0.206219\n",
            "Train Epoch: 2 [20736/60000 (35%)]\tLoss: 0.111866\n",
            "Train Epoch: 2 [27136/60000 (45%)]\tLoss: 0.308692\n",
            "Train Epoch: 2 [33536/60000 (56%)]\tLoss: 0.241508\n",
            "Train Epoch: 2 [39936/60000 (67%)]\tLoss: 0.195087\n",
            "Train Epoch: 2 [46336/60000 (77%)]\tLoss: 0.071597\n",
            "Train Epoch: 2 [52736/60000 (88%)]\tLoss: 0.196981\n",
            "Train Epoch: 2 [59136/60000 (99%)]\tLoss: 0.208983\n",
            "\n",
            "Test set: Average loss: 0.0002, Accuracy: 9507/10000 (95%)\n",
            "\n",
            "Train Epoch: 3 [5504/60000 (9%)]\tLoss: 0.143960\n",
            "Train Epoch: 3 [11904/60000 (20%)]\tLoss: 0.109548\n",
            "Train Epoch: 3 [18304/60000 (30%)]\tLoss: 0.126601\n",
            "Train Epoch: 3 [24704/60000 (41%)]\tLoss: 0.150256\n",
            "Train Epoch: 3 [31104/60000 (52%)]\tLoss: 0.130450\n",
            "Train Epoch: 3 [37504/60000 (62%)]\tLoss: 0.122832\n",
            "Train Epoch: 3 [43904/60000 (73%)]\tLoss: 0.112470\n",
            "Train Epoch: 3 [50304/60000 (84%)]\tLoss: 0.137192\n",
            "Train Epoch: 3 [56704/60000 (94%)]\tLoss: 0.097798\n",
            "\n",
            "Test set: Average loss: 0.0001, Accuracy: 9612/10000 (96%)\n",
            "\n",
            "Train Epoch: 4 [3072/60000 (5%)]\tLoss: 0.101423\n",
            "Train Epoch: 4 [9472/60000 (16%)]\tLoss: 0.146920\n",
            "Train Epoch: 4 [15872/60000 (26%)]\tLoss: 0.085874\n",
            "Train Epoch: 4 [22272/60000 (37%)]\tLoss: 0.079761\n",
            "Train Epoch: 4 [28672/60000 (48%)]\tLoss: 0.105790\n",
            "Train Epoch: 4 [35072/60000 (58%)]\tLoss: 0.106823\n",
            "Train Epoch: 4 [41472/60000 (69%)]\tLoss: 0.150367\n",
            "Train Epoch: 4 [47872/60000 (80%)]\tLoss: 0.196073\n",
            "Train Epoch: 4 [54272/60000 (90%)]\tLoss: 0.052822\n",
            "\n",
            "Test set: Average loss: 0.0001, Accuracy: 9691/10000 (97%)\n",
            "\n"
          ]
        }
      ],
      "source": [
        "train(model, 5)  # train 5 epochs should get you to about 97% accuracy"
      ]
    },
    {
      "cell_type": "markdown",
      "metadata": {
        "id": "yXZxtDy-5FdH"
      },
      "source": [
        "## 4. Save the model\n",
        "Now we have a model! Obviously we do not want to retrain the model everytime we want to use it. Plus if you are training a super big model, you probably want to save checkpoint periodically so that you can always fall back to the last checkpoint in case something bad happened or you simply want to test models at different training iterations.\n",
        "\n",
        "Model checkpointing is fairly simple in PyTorch. First, we define a helper function that can save a model to the disk."
      ]
    },
    {
      "cell_type": "code",
      "execution_count": 13,
      "metadata": {
        "id": "qxPSUrN15rcd"
      },
      "outputs": [],
      "source": [
        "def save_checkpoint(checkpoint_path, model, optimizer):\n",
        "    state = {'state_dict': model.state_dict(),\n",
        "             'optimizer' : optimizer.state_dict()}\n",
        "    torch.save(state, checkpoint_path)\n",
        "    print('model saved to %s' % checkpoint_path)\n",
        "\n",
        "def load_checkpoint(checkpoint_path, model, optimizer):\n",
        "    state = torch.load(checkpoint_path)\n",
        "    model.load_state_dict(state['state_dict'])\n",
        "    optimizer.load_state_dict(state['optimizer'])\n",
        "    print('model loaded from %s' % checkpoint_path)"
      ]
    },
    {
      "cell_type": "markdown",
      "metadata": {
        "id": "xCooXa7k6yfZ"
      },
      "source": [
        "Define a training loop with model checkpointing:"
      ]
    },
    {
      "cell_type": "code",
      "execution_count": 14,
      "metadata": {
        "id": "9R_sCj6r68QZ"
      },
      "outputs": [],
      "source": [
        "def train_save(model, epoch, save_interval, log_interval=100):\n",
        "    optimizer = optim.SGD(model.parameters(), lr=0.001, momentum=0.9)\n",
        "    criterion = nn.CrossEntropyLoss()\n",
        "    model.train()  # set training mode\n",
        "\n",
        "    iteration = 0\n",
        "    for ep in range(epoch):\n",
        "        for batch_idx, (data, target) in enumerate(trainset_loader):\n",
        "            data, target = data.to(device), target.to(device)\n",
        "            optimizer.zero_grad()\n",
        "            output = model(data)\n",
        "            loss = criterion(output, target)\n",
        "            loss.backward()\n",
        "            optimizer.step()\n",
        "\n",
        "            if iteration % log_interval == 0:\n",
        "                print('Train Epoch: {} [{}/{} ({:.0f}%)]\\tLoss: {:.6f}'.format(\n",
        "                    ep, batch_idx * len(data), len(trainset_loader.dataset),\n",
        "                    100. * batch_idx / len(trainset_loader), loss.item()))\n",
        "            if iteration % save_interval == 0 and iteration > 0:\n",
        "                save_checkpoint('mnist-%i.pth' % iteration, model, optimizer)\n",
        "            iteration += 1\n",
        "        test(model)\n",
        "\n",
        "    # save the final model\n",
        "    save_checkpoint('mnist-%i.pth' % iteration, model, optimizer)"
      ]
    },
    {
      "cell_type": "markdown",
      "metadata": {
        "id": "_AHraUa47rHo"
      },
      "source": [
        "Now, we can save the model in each iteration of training."
      ]
    },
    {
      "cell_type": "code",
      "execution_count": 15,
      "metadata": {
        "colab": {
          "base_uri": "https://localhost:8080/",
          "height": 1000
        },
        "id": "gu5L0qVh7HuE",
        "outputId": "8c985594-fa6e-4883-f849-7a05ad878b85"
      },
      "outputs": [
        {
          "name": "stdout",
          "output_type": "stream",
          "text": [
            "\n",
            "Test set: Average loss: 0.0023, Accuracy: 1038/10000 (10%)\n",
            "\n",
            "Train Epoch: 0 [0/60000 (0%)]\tLoss: 2.325348\n",
            "Train Epoch: 0 [6400/60000 (11%)]\tLoss: 2.298368\n",
            "Train Epoch: 0 [12800/60000 (21%)]\tLoss: 2.270430\n",
            "Train Epoch: 0 [19200/60000 (32%)]\tLoss: 2.231979\n",
            "Train Epoch: 0 [25600/60000 (43%)]\tLoss: 2.136256\n",
            "Train Epoch: 0 [32000/60000 (53%)]\tLoss: 1.910348\n",
            "model saved to mnist-500.pth\n",
            "Train Epoch: 0 [38400/60000 (64%)]\tLoss: 1.461725\n",
            "Train Epoch: 0 [44800/60000 (75%)]\tLoss: 1.399091\n",
            "Train Epoch: 0 [51200/60000 (85%)]\tLoss: 1.265329\n",
            "Train Epoch: 0 [57600/60000 (96%)]\tLoss: 1.219235\n",
            "\n",
            "Test set: Average loss: 0.0006, Accuracy: 8204/10000 (82%)\n",
            "\n",
            "Train Epoch: 1 [3968/60000 (7%)]\tLoss: 0.311161\n",
            "model saved to mnist-1000.pth\n",
            "Train Epoch: 1 [10368/60000 (17%)]\tLoss: 0.287481\n",
            "Train Epoch: 1 [16768/60000 (28%)]\tLoss: 0.408251\n",
            "Train Epoch: 1 [23168/60000 (39%)]\tLoss: 0.315860\n",
            "Train Epoch: 1 [29568/60000 (49%)]\tLoss: 0.259721\n",
            "Train Epoch: 1 [35968/60000 (60%)]\tLoss: 0.205171\n",
            "model saved to mnist-1500.pth\n",
            "Train Epoch: 1 [42368/60000 (71%)]\tLoss: 0.348263\n",
            "Train Epoch: 1 [48768/60000 (81%)]\tLoss: 0.347789\n",
            "Train Epoch: 1 [55168/60000 (92%)]\tLoss: 0.301074\n",
            "\n",
            "Test set: Average loss: 0.0003, Accuracy: 9181/10000 (92%)\n",
            "\n",
            "Train Epoch: 2 [1536/60000 (3%)]\tLoss: 0.418892\n",
            "Train Epoch: 2 [7936/60000 (13%)]\tLoss: 0.251984\n",
            "model saved to mnist-2000.pth\n",
            "Train Epoch: 2 [14336/60000 (24%)]\tLoss: 0.196412\n",
            "Train Epoch: 2 [20736/60000 (35%)]\tLoss: 0.214701\n",
            "Train Epoch: 2 [27136/60000 (45%)]\tLoss: 0.117399\n",
            "Train Epoch: 2 [33536/60000 (56%)]\tLoss: 0.241875\n",
            "Train Epoch: 2 [39936/60000 (67%)]\tLoss: 0.209411\n",
            "model saved to mnist-2500.pth\n",
            "Train Epoch: 2 [46336/60000 (77%)]\tLoss: 0.358647\n",
            "Train Epoch: 2 [52736/60000 (88%)]\tLoss: 0.179263\n",
            "Train Epoch: 2 [59136/60000 (99%)]\tLoss: 0.202904\n",
            "\n",
            "Test set: Average loss: 0.0002, Accuracy: 9484/10000 (95%)\n",
            "\n",
            "Train Epoch: 3 [5504/60000 (9%)]\tLoss: 0.237661\n",
            "Train Epoch: 3 [11904/60000 (20%)]\tLoss: 0.141185\n",
            "model saved to mnist-3000.pth\n",
            "Train Epoch: 3 [18304/60000 (30%)]\tLoss: 0.402973\n",
            "Train Epoch: 3 [24704/60000 (41%)]\tLoss: 0.222049\n",
            "Train Epoch: 3 [31104/60000 (52%)]\tLoss: 0.078098\n",
            "Train Epoch: 3 [37504/60000 (62%)]\tLoss: 0.246316\n",
            "Train Epoch: 3 [43904/60000 (73%)]\tLoss: 0.257020\n",
            "model saved to mnist-3500.pth\n",
            "Train Epoch: 3 [50304/60000 (84%)]\tLoss: 0.156558\n",
            "Train Epoch: 3 [56704/60000 (94%)]\tLoss: 0.081254\n",
            "\n",
            "Test set: Average loss: 0.0001, Accuracy: 9590/10000 (96%)\n",
            "\n",
            "Train Epoch: 4 [3072/60000 (5%)]\tLoss: 0.106117\n",
            "Train Epoch: 4 [9472/60000 (16%)]\tLoss: 0.104116\n",
            "Train Epoch: 4 [15872/60000 (26%)]\tLoss: 0.213551\n",
            "model saved to mnist-4000.pth\n",
            "Train Epoch: 4 [22272/60000 (37%)]\tLoss: 0.088638\n",
            "Train Epoch: 4 [28672/60000 (48%)]\tLoss: 0.059408\n",
            "Train Epoch: 4 [35072/60000 (58%)]\tLoss: 0.081803\n",
            "Train Epoch: 4 [41472/60000 (69%)]\tLoss: 0.164205\n",
            "Train Epoch: 4 [47872/60000 (80%)]\tLoss: 0.135508\n",
            "model saved to mnist-4500.pth\n",
            "Train Epoch: 4 [54272/60000 (90%)]\tLoss: 0.140094\n",
            "\n",
            "Test set: Average loss: 0.0001, Accuracy: 9633/10000 (96%)\n",
            "\n",
            "model saved to mnist-4690.pth\n"
          ]
        }
      ],
      "source": [
        "# create a brand new model\n",
        "model = Net().to(device)\n",
        "test(model)\n",
        "train_save(model, 5, 500, 100)"
      ]
    },
    {
      "cell_type": "markdown",
      "metadata": {
        "id": "yfJ0bbtn7dJd"
      },
      "source": [
        "Assume that we have stopped our training program.  \n",
        "To load the saved model, we need to create the model and optimizer once again.  \n",
        "Then we load the model weight and optimizer."
      ]
    },
    {
      "cell_type": "code",
      "execution_count": 16,
      "metadata": {
        "colab": {
          "base_uri": "https://localhost:8080/",
          "height": 85
        },
        "id": "SqmSVq4Z7FVn",
        "outputId": "1fee27b6-41c8-4ef7-aca5-c7ce6fed9322"
      },
      "outputs": [
        {
          "name": "stdout",
          "output_type": "stream",
          "text": [
            "model loaded from mnist-4690.pth\n"
          ]
        },
        {
          "name": "stderr",
          "output_type": "stream",
          "text": [
            "/tmp/ipykernel_32141/3486358145.py:8: FutureWarning: You are using `torch.load` with `weights_only=False` (the current default value), which uses the default pickle module implicitly. It is possible to construct malicious pickle data which will execute arbitrary code during unpickling (See https://github.com/pytorch/pytorch/blob/main/SECURITY.md#untrusted-models for more details). In a future release, the default value for `weights_only` will be flipped to `True`. This limits the functions that could be executed during unpickling. Arbitrary objects will no longer be allowed to be loaded via this mode unless they are explicitly allowlisted by the user via `torch.serialization.add_safe_globals`. We recommend you start setting `weights_only=True` for any use case where you don't have full control of the loaded file. Please open an issue on GitHub for any issues related to this experimental feature.\n",
            "  state = torch.load(checkpoint_path)\n"
          ]
        },
        {
          "name": "stdout",
          "output_type": "stream",
          "text": [
            "\n",
            "Test set: Average loss: 0.0001, Accuracy: 9633/10000 (96%)\n",
            "\n"
          ]
        }
      ],
      "source": [
        "# create a new model\n",
        "model = Net().to(device)\n",
        "optimizer = optim.SGD(model.parameters(), lr=0.001, momentum=0.9)\n",
        "\n",
        "# load from the final checkpoint\n",
        "load_checkpoint('mnist-4690.pth', model, optimizer)\n",
        "\n",
        "# should give you the final model accuracy\n",
        "test(model)"
      ]
    },
    {
      "cell_type": "markdown",
      "metadata": {
        "id": "9WARTXlU9dSK"
      },
      "source": [
        "## 5. Fine-tuning a pre-trained model\n",
        "\n",
        "Sometimes you want to fine-tune a pretrained model instead of training a model from scratch. For example, if you want to train a model on a new dataset that contains natural images. To achieve the best performance, you can start with a model that's fully trained on ImageNet and fine-tune the model.\n",
        "\n",
        "Finetuning a model in PyTorch is super easy! First, let's find out what we saved in a checkpoint:"
      ]
    },
    {
      "cell_type": "code",
      "execution_count": 17,
      "metadata": {
        "colab": {
          "base_uri": "https://localhost:8080/",
          "height": 54
        },
        "id": "w1Noa3nO9uSY",
        "outputId": "d2c3fdf8-46a0-48db-cf9b-45d43d4d4346"
      },
      "outputs": [
        {
          "name": "stdout",
          "output_type": "stream",
          "text": [
            "odict_keys(['conv1.0.weight', 'conv1.0.bias', 'conv2.0.weight', 'conv2.0.bias', 'fc1.0.weight', 'fc1.0.bias', 'fc2.weight', 'fc2.bias'])\n"
          ]
        }
      ],
      "source": [
        "# What's in a state dict?\n",
        "print(model.state_dict().keys())"
      ]
    },
    {
      "cell_type": "markdown",
      "metadata": {
        "id": "bK5Y3zqW93SW"
      },
      "source": [
        "Now say we want to load the conv layers from the checkpoint and train the fc layers. We can simply load a subset of the state dict with the selected names"
      ]
    },
    {
      "cell_type": "code",
      "execution_count": 18,
      "metadata": {
        "colab": {
          "base_uri": "https://localhost:8080/",
          "height": 34
        },
        "id": "ddMw3ywB99aF",
        "outputId": "75e2f7e5-e942-4d4c-bded-749d11614068"
      },
      "outputs": [
        {
          "name": "stderr",
          "output_type": "stream",
          "text": [
            "/tmp/ipykernel_32141/551013859.py:1: FutureWarning: You are using `torch.load` with `weights_only=False` (the current default value), which uses the default pickle module implicitly. It is possible to construct malicious pickle data which will execute arbitrary code during unpickling (See https://github.com/pytorch/pytorch/blob/main/SECURITY.md#untrusted-models for more details). In a future release, the default value for `weights_only` will be flipped to `True`. This limits the functions that could be executed during unpickling. Arbitrary objects will no longer be allowed to be loaded via this mode unless they are explicitly allowlisted by the user via `torch.serialization.add_safe_globals`. We recommend you start setting `weights_only=True` for any use case where you don't have full control of the loaded file. Please open an issue on GitHub for any issues related to this experimental feature.\n",
            "  checkpoint = torch.load('mnist-4690.pth')\n"
          ]
        },
        {
          "data": {
            "text/plain": [
              "<All keys matched successfully>"
            ]
          },
          "execution_count": 18,
          "metadata": {},
          "output_type": "execute_result"
        }
      ],
      "source": [
        "checkpoint = torch.load('mnist-4690.pth')\n",
        "states_to_load = {}\n",
        "for name, param in checkpoint['state_dict'].items():\n",
        "    if name.startswith('conv'):\n",
        "        states_to_load[name] = param\n",
        "\n",
        "# Construct a new state dict in which the layers we want\n",
        "# to import from the checkpoint is update with the parameters\n",
        "# from the checkpoint\n",
        "model = Net().to(device)\n",
        "model_state = model.state_dict()\n",
        "model_state.update(states_to_load)\n",
        "model.load_state_dict(model_state)"
      ]
    },
    {
      "cell_type": "markdown",
      "metadata": {
        "id": "KIcovVOb-ODO"
      },
      "source": [
        "Let's see how is the fine-tuning result."
      ]
    },
    {
      "cell_type": "code",
      "execution_count": 19,
      "metadata": {
        "colab": {
          "base_uri": "https://localhost:8080/",
          "height": 238
        },
        "id": "ulPQ-ff2-Igx",
        "outputId": "d89b036f-202d-43eb-b5a4-9a673c0b37eb"
      },
      "outputs": [
        {
          "name": "stdout",
          "output_type": "stream",
          "text": [
            "Train Epoch: 0 [0/60000 (0%)]\tLoss: 3.474110\n",
            "Train Epoch: 0 [6400/60000 (11%)]\tLoss: 1.529166\n",
            "Train Epoch: 0 [12800/60000 (21%)]\tLoss: 1.148567\n",
            "Train Epoch: 0 [19200/60000 (32%)]\tLoss: 0.894542\n",
            "Train Epoch: 0 [25600/60000 (43%)]\tLoss: 0.779044\n",
            "Train Epoch: 0 [32000/60000 (53%)]\tLoss: 0.746305\n",
            "Train Epoch: 0 [38400/60000 (64%)]\tLoss: 0.833176\n",
            "Train Epoch: 0 [44800/60000 (75%)]\tLoss: 0.547904\n",
            "Train Epoch: 0 [51200/60000 (85%)]\tLoss: 0.619920\n",
            "Train Epoch: 0 [57600/60000 (96%)]\tLoss: 0.699415\n",
            "\n",
            "Test set: Average loss: 0.0003, Accuracy: 9218/10000 (92%)\n",
            "\n"
          ]
        }
      ],
      "source": [
        "train(model, 1)  # training 1 epoch will get you to 93%!"
      ]
    },
    {
      "cell_type": "markdown",
      "metadata": {
        "id": "YWWcoiOW-5C5"
      },
      "source": [
        "We can even use the pretrained conv layers in a different model."
      ]
    },
    {
      "cell_type": "code",
      "execution_count": 20,
      "metadata": {
        "colab": {
          "base_uri": "https://localhost:8080/",
          "height": 255
        },
        "id": "AoW1yJ_D-52V",
        "outputId": "f717ad63-ad71-4573-e779-da60b9164cdd"
      },
      "outputs": [
        {
          "name": "stdout",
          "output_type": "stream",
          "text": [
            "SmallNet(\n",
            "  (conv1): Sequential(\n",
            "    (0): Conv2d(1, 10, kernel_size=(5, 5), stride=(1, 1))\n",
            "    (1): MaxPool2d(kernel_size=2, stride=2, padding=0, dilation=1, ceil_mode=False)\n",
            "    (2): ReLU()\n",
            "  )\n",
            "  (conv2): Sequential(\n",
            "    (0): Conv2d(10, 20, kernel_size=(5, 5), stride=(1, 1))\n",
            "    (1): Dropout2d(p=0.5, inplace=False)\n",
            "    (2): MaxPool2d(kernel_size=2, stride=2, padding=0, dilation=1, ceil_mode=False)\n",
            "    (3): ReLU()\n",
            "  )\n",
            "  (fc1): Linear(in_features=320, out_features=10, bias=True)\n",
            ")\n"
          ]
        }
      ],
      "source": [
        "class SmallNet(nn.Module):\n",
        "    def __init__(self):\n",
        "        super(SmallNet, self).__init__()\n",
        "        self.conv1 = nn.Sequential(\n",
        "            nn.Conv2d(1, 10, kernel_size=5),\n",
        "            nn.MaxPool2d(2),\n",
        "            nn.ReLU()\n",
        "        )\n",
        "        self.conv2 = nn.Sequential(\n",
        "            nn.Conv2d(10, 20, kernel_size=5),\n",
        "            nn.Dropout2d(0.5),\n",
        "            nn.MaxPool2d(2),\n",
        "            nn.ReLU()\n",
        "        )\n",
        "        self.fc1 = nn.Linear(320, 10)\n",
        "\n",
        "    def forward(self, x):\n",
        "        x = self.conv1(x)\n",
        "        x = self.conv2(x)\n",
        "        x = x.view(-1, 320)\n",
        "        x = self.fc1(x)\n",
        "        return x\n",
        "\n",
        "model = SmallNet().to(device)\n",
        "print(model)"
      ]
    },
    {
      "cell_type": "code",
      "execution_count": 21,
      "metadata": {
        "colab": {
          "base_uri": "https://localhost:8080/",
          "height": 34
        },
        "id": "iNYuZzh9--PT",
        "outputId": "f78ba8ec-555e-455e-bcbb-6b35d2f9b056"
      },
      "outputs": [
        {
          "name": "stderr",
          "output_type": "stream",
          "text": [
            "/tmp/ipykernel_32141/3582524739.py:4: FutureWarning: You are using `torch.load` with `weights_only=False` (the current default value), which uses the default pickle module implicitly. It is possible to construct malicious pickle data which will execute arbitrary code during unpickling (See https://github.com/pytorch/pytorch/blob/main/SECURITY.md#untrusted-models for more details). In a future release, the default value for `weights_only` will be flipped to `True`. This limits the functions that could be executed during unpickling. Arbitrary objects will no longer be allowed to be loaded via this mode unless they are explicitly allowlisted by the user via `torch.serialization.add_safe_globals`. We recommend you start setting `weights_only=True` for any use case where you don't have full control of the loaded file. Please open an issue on GitHub for any issues related to this experimental feature.\n",
            "  checkpoint = torch.load('mnist-4690.pth')\n"
          ]
        },
        {
          "data": {
            "text/plain": [
              "<All keys matched successfully>"
            ]
          },
          "execution_count": 21,
          "metadata": {},
          "output_type": "execute_result"
        }
      ],
      "source": [
        "# 1. load the entired pretrained model(checkpoint)\n",
        "# 2. select the desired layers(parameters)\n",
        "# 3. update the new model with the selected part of pretrained model\n",
        "checkpoint = torch.load('mnist-4690.pth')\n",
        "states_to_load = {}\n",
        "for name, param in checkpoint['state_dict'].items():\n",
        "    if name.startswith('conv'):\n",
        "        states_to_load[name] = param\n",
        "\n",
        "# Construct a new state dict in which the layers we want\n",
        "# to import from the checkpoint is update with the parameters\n",
        "# from the checkpoint\n",
        "model_state = model.state_dict()\n",
        "model_state.update(states_to_load)\n",
        "\n",
        "model.load_state_dict(model_state)"
      ]
    },
    {
      "cell_type": "code",
      "execution_count": 22,
      "metadata": {
        "colab": {
          "base_uri": "https://localhost:8080/",
          "height": 238
        },
        "id": "Sqqp4ZAG-_hV",
        "outputId": "644a6f9a-fcbf-4171-d19e-29c6fb59af55"
      },
      "outputs": [
        {
          "name": "stdout",
          "output_type": "stream",
          "text": [
            "Train Epoch: 0 [0/60000 (0%)]\tLoss: 4.409426\n",
            "Train Epoch: 0 [6400/60000 (11%)]\tLoss: 0.636736\n",
            "Train Epoch: 0 [12800/60000 (21%)]\tLoss: 0.443060\n",
            "Train Epoch: 0 [19200/60000 (32%)]\tLoss: 0.394373\n",
            "Train Epoch: 0 [25600/60000 (43%)]\tLoss: 0.328794\n",
            "Train Epoch: 0 [32000/60000 (53%)]\tLoss: 0.466223\n",
            "Train Epoch: 0 [38400/60000 (64%)]\tLoss: 0.436625\n",
            "Train Epoch: 0 [44800/60000 (75%)]\tLoss: 0.287042\n",
            "Train Epoch: 0 [51200/60000 (85%)]\tLoss: 0.182870\n",
            "Train Epoch: 0 [57600/60000 (96%)]\tLoss: 0.152446\n",
            "\n",
            "Test set: Average loss: 0.0002, Accuracy: 9484/10000 (95%)\n",
            "\n"
          ]
        }
      ],
      "source": [
        "train(model, 1)  # training 1 epoch will get you to 93%!"
      ]
    },
    {
      "cell_type": "markdown",
      "metadata": {
        "id": "55zSQ4nZBjV3"
      },
      "source": [
        "## 6. How to debug the model?\n",
        "\n",
        "Debugging in Pytorch is quite simple.  \n",
        "**\"Check your tensor shape and data type constantly.\"**  \n",
        "For example, if we want to visualize the tensor blob when forwarding the model:"
      ]
    },
    {
      "cell_type": "code",
      "execution_count": 23,
      "metadata": {
        "id": "Zid2H3A1CF8D"
      },
      "outputs": [],
      "source": [
        "class Net(nn.Module):\n",
        "    def __init__(self):\n",
        "        super(Net, self).__init__()\n",
        "        self.conv1 = nn.Sequential(\n",
        "            nn.Conv2d(1, 10, kernel_size=5),\n",
        "            nn.MaxPool2d(2),\n",
        "            nn.ReLU()\n",
        "        )\n",
        "        self.conv2 = nn.Sequential(\n",
        "            nn.Conv2d(10, 20, kernel_size=5),\n",
        "            nn.Dropout2d(0.5),\n",
        "            nn.MaxPool2d(2),\n",
        "            nn.ReLU()\n",
        "        )\n",
        "        self.fc1 = nn.Sequential(\n",
        "            nn.Linear(320, 50),\n",
        "            nn.ReLU(),\n",
        "            nn.Dropout(0.5)\n",
        "        )\n",
        "        self.fc2 = nn.Linear(50, 10)\n",
        "\n",
        "    def forward(self, x):\n",
        "        x = self.conv1(x)\n",
        "        print('Tensor size and type after conv1:', x.shape, x.dtype)\n",
        "        x = self.conv2(x)\n",
        "        print('Tensor size and type after conv2:', x.shape, x.dtype)\n",
        "        x = x.view(-1, 320)\n",
        "        print('Tensor size and type after view():', x.shape, x.dtype)\n",
        "        x = self.fc1(x)\n",
        "        print('Tensor size and type after fc1:', x.shape, x.dtype)\n",
        "        x = self.fc2(x)\n",
        "        print('Tensor size and type after fc2:', x.shape, x.dtype)\n",
        "        return x\n",
        "\n",
        "model = Net().to(device) # Remember to move the model to \"device\""
      ]
    },
    {
      "cell_type": "code",
      "execution_count": 24,
      "metadata": {
        "colab": {
          "base_uri": "https://localhost:8080/",
          "height": 102
        },
        "id": "sAGJheVvCp84",
        "outputId": "f9e254f1-b871-4ec6-ad2e-d19cb9e7dcaf"
      },
      "outputs": [
        {
          "name": "stdout",
          "output_type": "stream",
          "text": [
            "Tensor size and type after conv1: torch.Size([64, 10, 12, 12]) torch.float32\n",
            "Tensor size and type after conv2: torch.Size([64, 20, 4, 4]) torch.float32\n",
            "Tensor size and type after view(): torch.Size([64, 320]) torch.float32\n",
            "Tensor size and type after fc1: torch.Size([64, 50]) torch.float32\n",
            "Tensor size and type after fc2: torch.Size([64, 10]) torch.float32\n"
          ]
        }
      ],
      "source": [
        "# Fowarding a dummy tensor\n",
        "x = torch.Tensor(64,1,28,28).to(device) # shape of N*C*H*W\n",
        "x = model(x)"
      ]
    }
  ],
  "metadata": {
    "accelerator": "GPU",
    "colab": {
      "provenance": []
    },
    "kernelspec": {
      "display_name": "Python 3",
      "name": "python3"
    },
    "language_info": {
      "codemirror_mode": {
        "name": "ipython",
        "version": 3
      },
      "file_extension": ".py",
      "mimetype": "text/x-python",
      "name": "python",
      "nbconvert_exporter": "python",
      "pygments_lexer": "ipython3",
      "version": "3.8.19"
    }
  },
  "nbformat": 4,
  "nbformat_minor": 0
}
